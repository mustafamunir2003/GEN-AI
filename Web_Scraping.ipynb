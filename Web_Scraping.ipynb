{
  "nbformat": 4,
  "nbformat_minor": 0,
  "metadata": {
    "colab": {
      "provenance": [],
      "gpuType": "T4",
      "authorship_tag": "ABX9TyPeEAhlU9brwQOF/O73Scu0",
      "include_colab_link": true
    },
    "kernelspec": {
      "name": "python3",
      "display_name": "Python 3"
    },
    "language_info": {
      "name": "python"
    },
    "accelerator": "GPU"
  },
  "cells": [
    {
      "cell_type": "markdown",
      "metadata": {
        "id": "view-in-github",
        "colab_type": "text"
      },
      "source": [
        "<a href=\"https://colab.research.google.com/github/mustafamunir2003/GEN-AI/blob/main/Web_Scraping.ipynb\" target=\"_parent\"><img src=\"https://colab.research.google.com/assets/colab-badge.svg\" alt=\"Open In Colab\"/></a>"
      ]
    },
    {
      "cell_type": "code",
      "execution_count": 1,
      "metadata": {
        "colab": {
          "base_uri": "https://localhost:8080/"
        },
        "id": "3EMNhszXWxaF",
        "outputId": "6f32fd5b-9f63-4a13-9074-e41efda0544c"
      },
      "outputs": [
        {
          "output_type": "stream",
          "name": "stdout",
          "text": [
            "Requirement already satisfied: requests in /usr/local/lib/python3.11/dist-packages (2.32.3)\n",
            "Requirement already satisfied: beautifulsoup4 in /usr/local/lib/python3.11/dist-packages (4.13.3)\n",
            "Requirement already satisfied: pandas in /usr/local/lib/python3.11/dist-packages (2.2.2)\n",
            "Requirement already satisfied: charset-normalizer<4,>=2 in /usr/local/lib/python3.11/dist-packages (from requests) (3.4.1)\n",
            "Requirement already satisfied: idna<4,>=2.5 in /usr/local/lib/python3.11/dist-packages (from requests) (3.10)\n",
            "Requirement already satisfied: urllib3<3,>=1.21.1 in /usr/local/lib/python3.11/dist-packages (from requests) (2.3.0)\n",
            "Requirement already satisfied: certifi>=2017.4.17 in /usr/local/lib/python3.11/dist-packages (from requests) (2025.1.31)\n",
            "Requirement already satisfied: soupsieve>1.2 in /usr/local/lib/python3.11/dist-packages (from beautifulsoup4) (2.6)\n",
            "Requirement already satisfied: typing-extensions>=4.0.0 in /usr/local/lib/python3.11/dist-packages (from beautifulsoup4) (4.12.2)\n",
            "Requirement already satisfied: numpy>=1.23.2 in /usr/local/lib/python3.11/dist-packages (from pandas) (1.26.4)\n",
            "Requirement already satisfied: python-dateutil>=2.8.2 in /usr/local/lib/python3.11/dist-packages (from pandas) (2.8.2)\n",
            "Requirement already satisfied: pytz>=2020.1 in /usr/local/lib/python3.11/dist-packages (from pandas) (2025.1)\n",
            "Requirement already satisfied: tzdata>=2022.7 in /usr/local/lib/python3.11/dist-packages (from pandas) (2025.1)\n",
            "Requirement already satisfied: six>=1.5 in /usr/local/lib/python3.11/dist-packages (from python-dateutil>=2.8.2->pandas) (1.17.0)\n"
          ]
        }
      ],
      "source": [
        "!pip install requests beautifulsoup4 pandas"
      ]
    },
    {
      "cell_type": "code",
      "source": [
        "from bs4 import BeautifulSoup\n",
        "\n",
        "soup = BeautifulSoup(html_content, 'html.parser')"
      ],
      "metadata": {
        "id": "mPNMVF7XW4Lb"
      },
      "execution_count": 3,
      "outputs": []
    },
    {
      "cell_type": "code",
      "source": [
        "import requests\n",
        "from bs4 import BeautifulSoup\n"
      ],
      "metadata": {
        "id": "4L4_iLImXkJO"
      },
      "execution_count": 9,
      "outputs": []
    },
    {
      "cell_type": "code",
      "source": [],
      "metadata": {
        "id": "P9hCd3mTYSxg"
      },
      "execution_count": 18,
      "outputs": []
    },
    {
      "cell_type": "code",
      "source": [
        "import requests\n",
        "from bs4 import BeautifulSoup\n",
        "import csv\n",
        "import json\n",
        "\n",
        "# Base URL for scraping\n",
        "BASE_URL = \"http://quotes.toscrape.com\"\n",
        "\n",
        "# Function to extract quotes from a single page\n",
        "def extract_quotes(soup):\n",
        "    \"\"\"Extracts quotes, authors, and tags from the page.\"\"\"\n",
        "    quotes_data = []\n",
        "    quote_elements = soup.find_all(\"div\", class_=\"quote\")\n",
        "\n",
        "    for quote in quote_elements:\n",
        "        text = quote.find(\"span\", class_=\"text\").text.strip()\n",
        "        author = quote.find(\"small\", class_=\"author\").text.strip()\n",
        "        tags = [tag.text for tag in quote.find_all(\"a\", class_=\"tag\")]\n",
        "\n",
        "        quotes_data.append({\"quote\": text, \"author\": author, \"tags\": tags})\n",
        "\n",
        "    return quotes_data\n",
        "\n",
        "# Function to scrape multiple pages\n",
        "def scrape_quotes():\n",
        "    \"\"\"Scrapes quotes from multiple pages and stores them in CSV & JSON.\"\"\"\n",
        "    all_quotes = []\n",
        "    page_num = 1\n",
        "\n",
        "    while True:\n",
        "        url = f\"{BASE_URL}/page/{page_num}/\"\n",
        "        print(f\"Scraping {url}...\")\n",
        "\n",
        "        response = requests.get(url)\n",
        "\n",
        "        if response.status_code != 200:\n",
        "            print(f\"Stopping: Page {page_num} not found.\")\n",
        "            break\n",
        "\n",
        "        soup = BeautifulSoup(response.content, \"html.parser\")\n",
        "        quotes_data = extract_quotes(soup)\n",
        "\n",
        "        if not quotes_data:\n",
        "            print(\"No more quotes found. Stopping.\")\n",
        "            break\n",
        "\n",
        "        all_quotes.extend(quotes_data)\n",
        "        page_num += 1\n",
        "\n",
        "    # Print first 5 extracted quotes\n",
        "    for quote in all_quotes[:5]:\n",
        "        print(f'\"{quote[\"quote\"]}\" - {quote[\"author\"]} (Tags: {\", \".join(quote[\"tags\"])})\\n')\n",
        "\n",
        "    # Save to CSV\n",
        "    with open(\"quotes.csv\", \"w\", newline=\"\", encoding=\"utf-8\") as file:\n",
        "        writer = csv.DictWriter(file, fieldnames=[\"quote\", \"author\", \"tags\"])\n",
        "        writer.writeheader()\n",
        "        for quote in all_quotes:\n",
        "            writer.writerow({\"quote\": quote[\"quote\"], \"author\": quote[\"author\"], \"tags\": \", \".join(quote[\"tags\"])})\n",
        "\n",
        "\n",
        "\n",
        "    print(f\"Scraped data saved in quotes.csv \")\n",
        "\n",
        "# Run the scraper\n",
        "if __name__ == \"__main__\":\n",
        "    scrape_quotes()\n"
      ],
      "metadata": {
        "colab": {
          "base_uri": "https://localhost:8080/"
        },
        "id": "iYjlnUZKYmG3",
        "outputId": "a5e28be6-ace3-4ac8-ba0b-45085d2b2462"
      },
      "execution_count": 18,
      "outputs": [
        {
          "output_type": "stream",
          "name": "stdout",
          "text": [
            "Scraping http://quotes.toscrape.com/page/1/...\n",
            "Scraping http://quotes.toscrape.com/page/2/...\n",
            "Scraping http://quotes.toscrape.com/page/3/...\n",
            "Scraping http://quotes.toscrape.com/page/4/...\n",
            "Scraping http://quotes.toscrape.com/page/5/...\n",
            "Scraping http://quotes.toscrape.com/page/6/...\n",
            "Scraping http://quotes.toscrape.com/page/7/...\n",
            "Scraping http://quotes.toscrape.com/page/8/...\n",
            "Scraping http://quotes.toscrape.com/page/9/...\n",
            "Scraping http://quotes.toscrape.com/page/10/...\n",
            "Scraping http://quotes.toscrape.com/page/11/...\n",
            "No more quotes found. Stopping.\n",
            "\"“The world as we have created it is a process of our thinking. It cannot be changed without changing our thinking.”\" - Albert Einstein (Tags: change, deep-thoughts, thinking, world)\n",
            "\n",
            "\"“It is our choices, Harry, that show what we truly are, far more than our abilities.”\" - J.K. Rowling (Tags: abilities, choices)\n",
            "\n",
            "\"“There are only two ways to live your life. One is as though nothing is a miracle. The other is as though everything is a miracle.”\" - Albert Einstein (Tags: inspirational, life, live, miracle, miracles)\n",
            "\n",
            "\"“The person, be it gentleman or lady, who has not pleasure in a good novel, must be intolerably stupid.”\" - Jane Austen (Tags: aliteracy, books, classic, humor)\n",
            "\n",
            "\"“Imperfection is beauty, madness is genius and it's better to be absolutely ridiculous than absolutely boring.”\" - Marilyn Monroe (Tags: be-yourself, inspirational)\n",
            "\n",
            "Scraped data saved in quotes.csv and quotes.json\n"
          ]
        }
      ]
    },
    {
      "cell_type": "code",
      "source": [],
      "metadata": {
        "id": "B2ODQV9Bfp-W"
      },
      "execution_count": null,
      "outputs": []
    }
  ]
}